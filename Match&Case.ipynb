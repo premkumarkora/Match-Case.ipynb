{
  "nbformat": 4,
  "nbformat_minor": 0,
  "metadata": {
    "colab": {
      "provenance": [],
      "authorship_tag": "ABX9TyNNMyU9kEDt1TRqaMvKiXCT",
      "include_colab_link": true
    },
    "kernelspec": {
      "name": "python3",
      "display_name": "Python 3"
    },
    "language_info": {
      "name": "python"
    }
  },
  "cells": [
    {
      "cell_type": "markdown",
      "metadata": {
        "id": "view-in-github",
        "colab_type": "text"
      },
      "source": [
        "<a href=\"https://colab.research.google.com/github/premkumarkora/Match-Case.ipynb/blob/main/Match%26Case.ipynb\" target=\"_parent\"><img src=\"https://colab.research.google.com/assets/colab-badge.svg\" alt=\"Open In Colab\"/></a>"
      ]
    },
    {
      "cell_type": "markdown",
      "source": [
        "# Structural Pattern Matching\n",
        "Match Case python > 3.10 release\n",
        "The match and case keywords are soft keywords - This implies that they are recognized as keywords when part of a match statement or case block only, and are allowed to be used in all other contexts as variable or argument names.\n"
      ],
      "metadata": {
        "id": "u9M_6c1BWrlf"
      }
    },
    {
      "cell_type": "markdown",
      "source": [
        "\n",
        "\n",
        "```\n",
        "Basic Syntax\n",
        "\n",
        "match varname:\n",
        "  case value:\n",
        "    print(\"if varname == value then print this code\")\n",
        "  case value1:\n",
        "    print(\"if varname == value1 then print this code\")\n",
        "  case value2:\n",
        "    print(\"if varname == value2 then print this code\")\n",
        "  case_:\n",
        "    print(\"if nothing matches them matches then this will be printed\")\n",
        "```\n",
        "\n"
      ],
      "metadata": {
        "id": "karc9hzcVdim"
      }
    },
    {
      "cell_type": "code",
      "source": [
        "valueofS= int(input())\n",
        "match valueofS:\n",
        "  case 10:\n",
        "    print(\"U entered 10\")\n",
        "  case 20:\n",
        "    print(\"U entered 20\")\n",
        "  case 30:\n",
        "    print(\"U entered 30\")\n",
        "  case _:\n",
        "    print(\"don't enter 10 or 20 or 30\")"
      ],
      "metadata": {
        "colab": {
          "base_uri": "https://localhost:8080/"
        },
        "id": "2uUVmhMTXHZH",
        "outputId": "7dc822ba-9dff-41f4-8826-6e1fdb1d8d96"
      },
      "execution_count": 3,
      "outputs": [
        {
          "output_type": "stream",
          "name": "stdout",
          "text": [
            "50\n",
            "don't enter 10 or 20 or 30\n"
          ]
        }
      ]
    },
    {
      "cell_type": "markdown",
      "source": [
        "# List or a Tuple"
      ],
      "metadata": {
        "id": "7-iz8gqlWgSC"
      }
    },
    {
      "cell_type": "code",
      "source": [
        "# a, b = (i for i in input().strip().split(',')) # give input as comma seperated values only 2 values\n",
        "# print(a,b)\n",
        "lstval = list(map(int, input().strip().split(','))) # give input as comma seperated values, if you want to use more then comma seperated values\n",
        "print(lstval)\n",
        "match lstval:\n",
        "  case [a,b]:\n",
        "    print(\"Entered 2 values\")\n",
        "  case [a,b,c]:\n",
        "    print(\"Entered 3 values\")\n",
        "  case [a,b,c,d]:\n",
        "    print(\"Entered 4 values\")\n",
        "  case _:\n",
        "    print(\"either 1 or more than 4 values entered\")"
      ],
      "metadata": {
        "colab": {
          "base_uri": "https://localhost:8080/"
        },
        "id": "CXNHmQ-qb-jD",
        "outputId": "a01f25bd-858b-4e40-e91c-b586b08dd024"
      },
      "execution_count": 16,
      "outputs": [
        {
          "output_type": "stream",
          "name": "stdout",
          "text": [
            "1,2,3\n",
            "[1, 2, 3]\n",
            "Entered 3 values\n"
          ]
        }
      ]
    },
    {
      "cell_type": "markdown",
      "source": [
        "# Dictionaries"
      ],
      "metadata": {
        "id": "pu8TcHCsfuHf"
      }
    },
    {
      "cell_type": "code",
      "source": [
        "col = {\"Name\":\"Rishi\", \"Course\":\"MSc Data Science\", \"Grade\":\"84%\"}\n",
        "\n",
        "match col:  # Matching the collection\n",
        "  case {\"College\": colname}:   # Match not found skipping the print\n",
        "    print(f\"your colle is {colname}\" )\n",
        "  case {\"Name\": name, \"Grade\":grade}:   # it found a match so it is printing the next line\n",
        "    print(f\"your name is {name} and your grade is {grade}\" )\n",
        "  case {\"Course\":course}:\n",
        "    print(f\"Course in the Dict {course1}\")\n",
        "  case _:\n",
        "    print(f\"No Match found\")"
      ],
      "metadata": {
        "colab": {
          "base_uri": "https://localhost:8080/"
        },
        "id": "j-L4Trymf1O1",
        "outputId": "38dd01c3-9b05-464b-dcbb-50fdcd9faeab"
      },
      "execution_count": 5,
      "outputs": [
        {
          "output_type": "stream",
          "name": "stdout",
          "text": [
            "your name is Rishi and your grade is 84%\n"
          ]
        }
      ]
    },
    {
      "cell_type": "markdown",
      "source": [
        "Checking specific Values in Dictonaries, The first case will execute although th following case satisfy..."
      ],
      "metadata": {
        "id": "Z1lFOJ7df1eL"
      }
    },
    {
      "cell_type": "code",
      "source": [
        "col = {\"Name\":\"Rishi\", \"Course\":\"MSc Data Science\", \"Grade\":\"84%\"}\n",
        "\n",
        "match col:  # Matching the collection\n",
        "  case {\"College\": colname}:   # Match not found skipping the print\n",
        "    print(f\"your colle is {colname}\" )\n",
        "  case {\"Name\": \"Rishi\", \"Grade\":\"89%\"}:    # Match not found skipping the print\n",
        "    print(f\"your name is {name} and your grade is {grade}\" )\n",
        "  case {\"Name\": \"rishi\", \"Grade\":\"84%\"}:   # <--- it found a match so it is printing the next line, Why do you think it is not printing this line\n",
        "    print(f\"your name is {name} and your grade is {grade}\" )\n",
        "  case {\"Name\": \"Rishi\", \"Grade\":\"84%\"}:   # <--- it found a match so it is printing the next line\n",
        "    print(f\"your name is {name} and your grade is {grade}\" )\n",
        "  case {\"Course\": \"MSc Data Science\", \"Grade\":\"84%\"}:   # <--- it found a match so it is printing the next line\n",
        "    print(f\"your name is {Course} and your grade is {grade}\" )\n",
        "  case _:\n",
        "    print(f\"No Match found\")"
      ],
      "metadata": {
        "colab": {
          "base_uri": "https://localhost:8080/"
        },
        "id": "_CZ4Zxe2f5r0",
        "outputId": "14fa8a35-155f-41db-ecf5-0965cdababfa"
      },
      "execution_count": 9,
      "outputs": [
        {
          "output_type": "stream",
          "name": "stdout",
          "text": [
            "your name is Rishi and your grade is 84%\n"
          ]
        }
      ]
    },
    {
      "cell_type": "markdown",
      "source": [
        "uisng **args just like you use it in the python Functions"
      ],
      "metadata": {
        "id": "Qgvq4Bg2hitq"
      }
    },
    {
      "cell_type": "code",
      "source": [
        "col1 = {\"Name\":\"Rishi\", \"Course\":\"MSc Data Science\", \"Grade\":\"84%\"}\n",
        "\n",
        "match col1:  # Matching the collection\n",
        "  case {\"Name\":\"Rishi\", **arg}:   # Match not found skipping the print\n",
        "    print(f\"your name is {name}\" )\n",
        "    print(arg[\"Course\"])\n",
        "    # print(arg[\"state\"])    <--- will raise a Key Error\n",
        "  case _:\n",
        "    print(f\"No Match found\")"
      ],
      "metadata": {
        "colab": {
          "base_uri": "https://localhost:8080/"
        },
        "id": "yjD_6yl9hpuk",
        "outputId": "afbdea35-8955-4cde-a8b5-79b563c36786"
      },
      "execution_count": 44,
      "outputs": [
        {
          "output_type": "stream",
          "name": "stdout",
          "text": [
            "your name is Rishi\n",
            "MSc Data Science\n"
          ]
        }
      ]
    },
    {
      "cell_type": "markdown",
      "source": [
        "# Conditional Matching"
      ],
      "metadata": {
        "id": "FhsuNaREr-hN"
      }
    },
    {
      "cell_type": "code",
      "source": [
        "valueofx= int(input())\n",
        "match valueofx:\n",
        "  case i if i < 10:\n",
        "    print(\"U entered value less than 10\")\n",
        "  case  i if i > 10 and i < 50:\n",
        "    print(\"U entered value between 10 and 50\")\n",
        "  case  i if i> 90 and i < 100:\n",
        "    print(\"U entered GT 90\")\n",
        "  case _:\n",
        "    print(\"Invalid value \")"
      ],
      "metadata": {
        "colab": {
          "base_uri": "https://localhost:8080/"
        },
        "id": "W6Za9es5sFdx",
        "outputId": "b72bc09b-fde5-4318-f2f0-30e3c5688410"
      },
      "execution_count": 47,
      "outputs": [
        {
          "output_type": "stream",
          "name": "stdout",
          "text": [
            "12\n",
            "U entered value between 10 and 50\n"
          ]
        }
      ]
    },
    {
      "cell_type": "markdown",
      "source": [
        "# Sub Pattern Matching"
      ],
      "metadata": {
        "id": "FQ3UcOg7uA7E"
      }
    },
    {
      "cell_type": "code",
      "source": [
        "shopping = list(map(str, input().strip().split(',')))\n",
        "print(shopping)\n",
        "shopping =  []\n",
        "match shopping:\n",
        "  case [\"shoes\", (\"dress shop\" | \"Boots Shop\" | \"Toys Shop\") as shop]:\n",
        "    print(\"goto \", shop)"
      ],
      "metadata": {
        "colab": {
          "base_uri": "https://localhost:8080/"
        },
        "id": "6-2WRD5ruD25",
        "outputId": "7529ab49-b8ed-4816-b078-1e61eb45ca59"
      },
      "execution_count": 55,
      "outputs": [
        {
          "output_type": "stream",
          "name": "stdout",
          "text": [
            "shoes, Boots Shop1\n",
            "['shoes', ' Boots Shop1']\n"
          ]
        }
      ]
    },
    {
      "cell_type": "markdown",
      "source": [
        "# Data Type Matching"
      ],
      "metadata": {
        "id": "QPuP91u1xdS4"
      }
    },
    {
      "cell_type": "code",
      "source": [
        "lstt = [1, '2']\n",
        "match lstt:\n",
        "  case [int(x), int(y)]:\n",
        "    print(\"both integers\")\n",
        "  case [str(x), int(y)]:\n",
        "    print(\"x is str and y is int \")\n",
        "  case [int(x), str(y)]:\n",
        "    print(\"x is int and y is str\")  # it is matching the integer and string and printing this case\n",
        "  case [str(x), str(y)]:\n",
        "    print(\"both strings\")\n",
        "  case _:\n",
        "    print(\"No Match\")"
      ],
      "metadata": {
        "colab": {
          "base_uri": "https://localhost:8080/"
        },
        "id": "yJHnXbpuxg4I",
        "outputId": "7a2ea77c-de32-4aa3-b012-bbce8cbe5abf"
      },
      "execution_count": 56,
      "outputs": [
        {
          "output_type": "stream",
          "name": "stdout",
          "text": [
            "x is int and y is str\n"
          ]
        }
      ]
    }
  ]
}